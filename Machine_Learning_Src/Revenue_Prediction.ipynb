{
 "cells": [
  {
   "cell_type": "markdown",
   "metadata": {},
   "source": [
    "# Importing Libraries"
   ]
  },
  {
   "cell_type": "code",
   "execution_count": 53,
   "metadata": {},
   "outputs": [],
   "source": [
    "import pandas as pd\n",
    "import numpy as np\n",
    "import matplotlib.pyplot as plt\n",
    "import seaborn as sns\n",
    "import warnings\n",
    "warnings.filterwarnings('ignore')"
   ]
  },
  {
   "cell_type": "code",
   "execution_count": 54,
   "metadata": {},
   "outputs": [],
   "source": [
    "df = pd.read_csv('Olist_Eccomerce_Store_Data.csv')"
   ]
  },
  {
   "cell_type": "code",
   "execution_count": 55,
   "metadata": {},
   "outputs": [
    {
     "data": {
      "text/html": [
       "<div>\n",
       "<style scoped>\n",
       "    .dataframe tbody tr th:only-of-type {\n",
       "        vertical-align: middle;\n",
       "    }\n",
       "\n",
       "    .dataframe tbody tr th {\n",
       "        vertical-align: top;\n",
       "    }\n",
       "\n",
       "    .dataframe thead th {\n",
       "        text-align: right;\n",
       "    }\n",
       "</style>\n",
       "<table border=\"1\" class=\"dataframe\">\n",
       "  <thead>\n",
       "    <tr style=\"text-align: right;\">\n",
       "      <th></th>\n",
       "      <th>Unnamed: 0</th>\n",
       "      <th>order_id</th>\n",
       "      <th>totalpayment_value</th>\n",
       "      <th>total_qty</th>\n",
       "      <th>product_id</th>\n",
       "      <th>seller_id</th>\n",
       "      <th>product_category_name</th>\n",
       "      <th>product_photos_qty</th>\n",
       "      <th>customer_id</th>\n",
       "      <th>delivery_days</th>\n",
       "      <th>customer_city</th>\n",
       "      <th>customer_state</th>\n",
       "      <th>order_purchase_month_year</th>\n",
       "    </tr>\n",
       "  </thead>\n",
       "  <tbody>\n",
       "    <tr>\n",
       "      <th>0</th>\n",
       "      <td>0</td>\n",
       "      <td>00010242fe8c5a6d1ba2dd792cb16214</td>\n",
       "      <td>72.19</td>\n",
       "      <td>1</td>\n",
       "      <td>4244733e06e7ecb4970a6e2683c13e61</td>\n",
       "      <td>48436dade18ac8b2bce089ec2a041202</td>\n",
       "      <td>26</td>\n",
       "      <td>4.0</td>\n",
       "      <td>3ce436f183e68e07877b285a838db11a</td>\n",
       "      <td>7</td>\n",
       "      <td>728</td>\n",
       "      <td>18</td>\n",
       "      <td>2017-09</td>\n",
       "    </tr>\n",
       "    <tr>\n",
       "      <th>1</th>\n",
       "      <td>1</td>\n",
       "      <td>00018f77f2f0320c557190d7a144bdd3</td>\n",
       "      <td>259.83</td>\n",
       "      <td>1</td>\n",
       "      <td>e5f2d52b802189ee658865ca93d83a8f</td>\n",
       "      <td>dd7ddc04e1b6c2c614352b383efe2d36</td>\n",
       "      <td>63</td>\n",
       "      <td>2.0</td>\n",
       "      <td>f6dd3ec061db4e3987629fe6b26e5cce</td>\n",
       "      <td>16</td>\n",
       "      <td>3248</td>\n",
       "      <td>25</td>\n",
       "      <td>2017-04</td>\n",
       "    </tr>\n",
       "    <tr>\n",
       "      <th>2</th>\n",
       "      <td>2</td>\n",
       "      <td>000229ec398224ef6ca0657da4fc703e</td>\n",
       "      <td>216.87</td>\n",
       "      <td>1</td>\n",
       "      <td>c777355d18b72b67abbeef9df44fd0fd</td>\n",
       "      <td>5b51032eddd242adc84c38acab88f23d</td>\n",
       "      <td>54</td>\n",
       "      <td>2.0</td>\n",
       "      <td>6489ae5e4333f3693df5ad4372dab6d3</td>\n",
       "      <td>8</td>\n",
       "      <td>2632</td>\n",
       "      <td>10</td>\n",
       "      <td>2018-01</td>\n",
       "    </tr>\n",
       "    <tr>\n",
       "      <th>3</th>\n",
       "      <td>3</td>\n",
       "      <td>00024acbcdf0a6daa1e931b038114c75</td>\n",
       "      <td>25.78</td>\n",
       "      <td>1</td>\n",
       "      <td>7634da152a4610f1595efa32f14722fc</td>\n",
       "      <td>9d7a1d34a5052409006425275ba1c2b4</td>\n",
       "      <td>62</td>\n",
       "      <td>1.0</td>\n",
       "      <td>d4eb9395c8c0431ee92fce09860c5a06</td>\n",
       "      <td>6</td>\n",
       "      <td>326</td>\n",
       "      <td>25</td>\n",
       "      <td>2018-08</td>\n",
       "    </tr>\n",
       "    <tr>\n",
       "      <th>4</th>\n",
       "      <td>4</td>\n",
       "      <td>00042b26cf59d7ce69dfabb4e55b4fd9</td>\n",
       "      <td>218.04</td>\n",
       "      <td>1</td>\n",
       "      <td>ac6c3623068f30de03045865e4e10089</td>\n",
       "      <td>df560393f3a51e74553ab94004ba5c87</td>\n",
       "      <td>40</td>\n",
       "      <td>1.0</td>\n",
       "      <td>58dbd0b2d70206bf40e62cd34e84d795</td>\n",
       "      <td>25</td>\n",
       "      <td>3978</td>\n",
       "      <td>25</td>\n",
       "      <td>2017-02</td>\n",
       "    </tr>\n",
       "  </tbody>\n",
       "</table>\n",
       "</div>"
      ],
      "text/plain": [
       "   Unnamed: 0                          order_id  totalpayment_value  \\\n",
       "0           0  00010242fe8c5a6d1ba2dd792cb16214               72.19   \n",
       "1           1  00018f77f2f0320c557190d7a144bdd3              259.83   \n",
       "2           2  000229ec398224ef6ca0657da4fc703e              216.87   \n",
       "3           3  00024acbcdf0a6daa1e931b038114c75               25.78   \n",
       "4           4  00042b26cf59d7ce69dfabb4e55b4fd9              218.04   \n",
       "\n",
       "   total_qty                        product_id  \\\n",
       "0          1  4244733e06e7ecb4970a6e2683c13e61   \n",
       "1          1  e5f2d52b802189ee658865ca93d83a8f   \n",
       "2          1  c777355d18b72b67abbeef9df44fd0fd   \n",
       "3          1  7634da152a4610f1595efa32f14722fc   \n",
       "4          1  ac6c3623068f30de03045865e4e10089   \n",
       "\n",
       "                          seller_id  product_category_name  \\\n",
       "0  48436dade18ac8b2bce089ec2a041202                     26   \n",
       "1  dd7ddc04e1b6c2c614352b383efe2d36                     63   \n",
       "2  5b51032eddd242adc84c38acab88f23d                     54   \n",
       "3  9d7a1d34a5052409006425275ba1c2b4                     62   \n",
       "4  df560393f3a51e74553ab94004ba5c87                     40   \n",
       "\n",
       "   product_photos_qty                       customer_id  delivery_days  \\\n",
       "0                 4.0  3ce436f183e68e07877b285a838db11a              7   \n",
       "1                 2.0  f6dd3ec061db4e3987629fe6b26e5cce             16   \n",
       "2                 2.0  6489ae5e4333f3693df5ad4372dab6d3              8   \n",
       "3                 1.0  d4eb9395c8c0431ee92fce09860c5a06              6   \n",
       "4                 1.0  58dbd0b2d70206bf40e62cd34e84d795             25   \n",
       "\n",
       "   customer_city  customer_state order_purchase_month_year  \n",
       "0            728              18                   2017-09  \n",
       "1           3248              25                   2017-04  \n",
       "2           2632              10                   2018-01  \n",
       "3            326              25                   2018-08  \n",
       "4           3978              25                   2017-02  "
      ]
     },
     "execution_count": 55,
     "metadata": {},
     "output_type": "execute_result"
    }
   ],
   "source": [
    "df.head(5)"
   ]
  },
  {
   "cell_type": "markdown",
   "metadata": {},
   "source": [
    "# Data Preprocessing\n"
   ]
  },
  {
   "cell_type": "code",
   "execution_count": 56,
   "metadata": {},
   "outputs": [],
   "source": [
    "df=df.drop('Unnamed: 0',axis =1)"
   ]
  },
  {
   "cell_type": "code",
   "execution_count": 60,
   "metadata": {},
   "outputs": [
    {
     "data": {
      "text/plain": [
       "order_id                      object\n",
       "totalpayment_value           float64\n",
       "total_qty                      int64\n",
       "product_id                    object\n",
       "seller_id                     object\n",
       "product_category_name          int64\n",
       "product_photos_qty           float64\n",
       "customer_id                   object\n",
       "delivery_days                  int64\n",
       "customer_city                  int64\n",
       "customer_state                 int64\n",
       "order_purchase_month_year     object\n",
       "dtype: object"
      ]
     },
     "execution_count": 60,
     "metadata": {},
     "output_type": "execute_result"
    }
   ],
   "source": [
    "df.dtypes"
   ]
  },
  {
   "cell_type": "code",
   "execution_count": 57,
   "metadata": {},
   "outputs": [
    {
     "data": {
      "text/plain": [
       "order_id                     0\n",
       "totalpayment_value           0\n",
       "total_qty                    0\n",
       "product_id                   0\n",
       "seller_id                    0\n",
       "product_category_name        0\n",
       "product_photos_qty           0\n",
       "customer_id                  0\n",
       "delivery_days                0\n",
       "customer_city                0\n",
       "customer_state               0\n",
       "order_purchase_month_year    0\n",
       "dtype: int64"
      ]
     },
     "execution_count": 57,
     "metadata": {},
     "output_type": "execute_result"
    }
   ],
   "source": [
    "# no null values\n",
    "df.isnull().sum()"
   ]
  },
  {
   "cell_type": "code",
   "execution_count": 58,
   "metadata": {},
   "outputs": [
    {
     "data": {
      "text/html": [
       "<div>\n",
       "<style scoped>\n",
       "    .dataframe tbody tr th:only-of-type {\n",
       "        vertical-align: middle;\n",
       "    }\n",
       "\n",
       "    .dataframe tbody tr th {\n",
       "        vertical-align: top;\n",
       "    }\n",
       "\n",
       "    .dataframe thead th {\n",
       "        text-align: right;\n",
       "    }\n",
       "</style>\n",
       "<table border=\"1\" class=\"dataframe\">\n",
       "  <thead>\n",
       "    <tr style=\"text-align: right;\">\n",
       "      <th></th>\n",
       "      <th>totalpayment_value</th>\n",
       "      <th>total_qty</th>\n",
       "      <th>product_category_name</th>\n",
       "      <th>product_photos_qty</th>\n",
       "      <th>delivery_days</th>\n",
       "      <th>customer_city</th>\n",
       "      <th>customer_state</th>\n",
       "    </tr>\n",
       "  </thead>\n",
       "  <tbody>\n",
       "    <tr>\n",
       "      <th>totalpayment_value</th>\n",
       "      <td>1.000000</td>\n",
       "      <td>0.001509</td>\n",
       "      <td>0.009743</td>\n",
       "      <td>0.033240</td>\n",
       "      <td>0.069134</td>\n",
       "      <td>-0.025377</td>\n",
       "      <td>-0.059417</td>\n",
       "    </tr>\n",
       "    <tr>\n",
       "      <th>total_qty</th>\n",
       "      <td>0.001509</td>\n",
       "      <td>1.000000</td>\n",
       "      <td>0.000848</td>\n",
       "      <td>-0.004292</td>\n",
       "      <td>0.003776</td>\n",
       "      <td>0.001561</td>\n",
       "      <td>-0.001155</td>\n",
       "    </tr>\n",
       "    <tr>\n",
       "      <th>product_category_name</th>\n",
       "      <td>0.009743</td>\n",
       "      <td>0.000848</td>\n",
       "      <td>1.000000</td>\n",
       "      <td>0.081356</td>\n",
       "      <td>0.008290</td>\n",
       "      <td>0.000476</td>\n",
       "      <td>-0.010052</td>\n",
       "    </tr>\n",
       "    <tr>\n",
       "      <th>product_photos_qty</th>\n",
       "      <td>0.033240</td>\n",
       "      <td>-0.004292</td>\n",
       "      <td>0.081356</td>\n",
       "      <td>1.000000</td>\n",
       "      <td>-0.027410</td>\n",
       "      <td>-0.014295</td>\n",
       "      <td>-0.011117</td>\n",
       "    </tr>\n",
       "    <tr>\n",
       "      <th>delivery_days</th>\n",
       "      <td>0.069134</td>\n",
       "      <td>0.003776</td>\n",
       "      <td>0.008290</td>\n",
       "      <td>-0.027410</td>\n",
       "      <td>1.000000</td>\n",
       "      <td>-0.069125</td>\n",
       "      <td>-0.280684</td>\n",
       "    </tr>\n",
       "    <tr>\n",
       "      <th>customer_city</th>\n",
       "      <td>-0.025377</td>\n",
       "      <td>0.001561</td>\n",
       "      <td>0.000476</td>\n",
       "      <td>-0.014295</td>\n",
       "      <td>-0.069125</td>\n",
       "      <td>1.000000</td>\n",
       "      <td>0.261728</td>\n",
       "    </tr>\n",
       "    <tr>\n",
       "      <th>customer_state</th>\n",
       "      <td>-0.059417</td>\n",
       "      <td>-0.001155</td>\n",
       "      <td>-0.010052</td>\n",
       "      <td>-0.011117</td>\n",
       "      <td>-0.280684</td>\n",
       "      <td>0.261728</td>\n",
       "      <td>1.000000</td>\n",
       "    </tr>\n",
       "  </tbody>\n",
       "</table>\n",
       "</div>"
      ],
      "text/plain": [
       "                       totalpayment_value  total_qty  product_category_name  \\\n",
       "totalpayment_value               1.000000   0.001509               0.009743   \n",
       "total_qty                        0.001509   1.000000               0.000848   \n",
       "product_category_name            0.009743   0.000848               1.000000   \n",
       "product_photos_qty               0.033240  -0.004292               0.081356   \n",
       "delivery_days                    0.069134   0.003776               0.008290   \n",
       "customer_city                   -0.025377   0.001561               0.000476   \n",
       "customer_state                  -0.059417  -0.001155              -0.010052   \n",
       "\n",
       "                       product_photos_qty  delivery_days  customer_city  \\\n",
       "totalpayment_value               0.033240       0.069134      -0.025377   \n",
       "total_qty                       -0.004292       0.003776       0.001561   \n",
       "product_category_name            0.081356       0.008290       0.000476   \n",
       "product_photos_qty               1.000000      -0.027410      -0.014295   \n",
       "delivery_days                   -0.027410       1.000000      -0.069125   \n",
       "customer_city                   -0.014295      -0.069125       1.000000   \n",
       "customer_state                  -0.011117      -0.280684       0.261728   \n",
       "\n",
       "                       customer_state  \n",
       "totalpayment_value          -0.059417  \n",
       "total_qty                   -0.001155  \n",
       "product_category_name       -0.010052  \n",
       "product_photos_qty          -0.011117  \n",
       "delivery_days               -0.280684  \n",
       "customer_city                0.261728  \n",
       "customer_state               1.000000  "
      ]
     },
     "execution_count": 58,
     "metadata": {},
     "output_type": "execute_result"
    }
   ],
   "source": [
    "# find correlation\n",
    "df.corr()"
   ]
  },
  {
   "cell_type": "code",
   "execution_count": 59,
   "metadata": {},
   "outputs": [
    {
     "data": {
      "text/plain": [
       "<AxesSubplot:>"
      ]
     },
     "execution_count": 59,
     "metadata": {},
     "output_type": "execute_result"
    },
    {
     "data": {
      "image/png": "[encoded data removed]",
      "text/plain": [
       "<Figure size 432x288 with 2 Axes>"
      ]
     },
     "metadata": {
      "needs_background": "light"
     },
     "output_type": "display_data"
    }
   ],
   "source": [
    "sns.heatmap(df.corr(), annot=True)"
   ]
  },
  {
   "cell_type": "code",
   "execution_count": 62,
   "metadata": {},
   "outputs": [
    {
     "data": {
      "text/plain": [
       "2017-11    7182\n",
       "2018-01    6900\n",
       "2018-03    6881\n",
       "2018-04    6728\n",
       "2018-05    6715\n",
       "2018-02    6450\n",
       "2018-08    6324\n",
       "2018-07    6116\n",
       "2018-06    6075\n",
       "2017-12    5383\n",
       "2017-10    4423\n",
       "2017-08    4129\n",
       "2017-09    4090\n",
       "2017-07    3821\n",
       "2017-05    3465\n",
       "2017-06    3085\n",
       "2017-03    2494\n",
       "2017-04    2242\n",
       "2017-02    1592\n",
       "2017-01     737\n",
       "Name: order_purchase_month_year, dtype: int64"
      ]
     },
     "execution_count": 62,
     "metadata": {},
     "output_type": "execute_result"
    }
   ],
   "source": [
    "df.order_purchase_month_year.value_counts()"
   ]
  },
  {
   "cell_type": "code",
   "execution_count": 63,
   "metadata": {},
   "outputs": [],
   "source": [
    "# Ensuring Jan 2017-Sep 2018 is being considered\n",
    "ops=df[(df.order_purchase_month_year>='2017-01')&(df.order_purchase_month_year<'2018-10')]"
   ]
  },
  {
   "cell_type": "code",
   "execution_count": 64,
   "metadata": {},
   "outputs": [
    {
     "data": {
      "text/plain": [
       "((94832, 12), 94832)"
      ]
     },
     "execution_count": 64,
     "metadata": {},
     "output_type": "execute_result"
    }
   ],
   "source": [
    "# Unique on Order_id level\n",
    "ops.shape,ops.order_id.nunique()"
   ]
  },
  {
   "cell_type": "code",
   "execution_count": 65,
   "metadata": {},
   "outputs": [],
   "source": [
    "mr=pd.DataFrame(ops.order_purchase_month_year.value_counts()).reset_index()\n",
    "mr=ops.groupby(['order_purchase_month_year']).agg({'order_id':len,'totalpayment_value':sum}).reset_index()\n",
    "mr.columns=['year_month','order_count','revenue_generated']"
   ]
  },
  {
   "cell_type": "code",
   "execution_count": 66,
   "metadata": {},
   "outputs": [
    {
     "data": {
      "text/html": [
       "<div>\n",
       "<style scoped>\n",
       "    .dataframe tbody tr th:only-of-type {\n",
       "        vertical-align: middle;\n",
       "    }\n",
       "\n",
       "    .dataframe tbody tr th {\n",
       "        vertical-align: top;\n",
       "    }\n",
       "\n",
       "    .dataframe thead th {\n",
       "        text-align: right;\n",
       "    }\n",
       "</style>\n",
       "<table border=\"1\" class=\"dataframe\">\n",
       "  <thead>\n",
       "    <tr style=\"text-align: right;\">\n",
       "      <th></th>\n",
       "      <th>year_month</th>\n",
       "      <th>order_count</th>\n",
       "      <th>revenue_generated</th>\n",
       "    </tr>\n",
       "  </thead>\n",
       "  <tbody>\n",
       "    <tr>\n",
       "      <th>0</th>\n",
       "      <td>2017-01</td>\n",
       "      <td>737</td>\n",
       "      <td>123671.01</td>\n",
       "    </tr>\n",
       "    <tr>\n",
       "      <th>1</th>\n",
       "      <td>2017-02</td>\n",
       "      <td>1592</td>\n",
       "      <td>259978.49</td>\n",
       "    </tr>\n",
       "    <tr>\n",
       "      <th>2</th>\n",
       "      <td>2017-03</td>\n",
       "      <td>2494</td>\n",
       "      <td>406959.60</td>\n",
       "    </tr>\n",
       "    <tr>\n",
       "      <th>3</th>\n",
       "      <td>2017-04</td>\n",
       "      <td>2242</td>\n",
       "      <td>381012.04</td>\n",
       "    </tr>\n",
       "    <tr>\n",
       "      <th>4</th>\n",
       "      <td>2017-05</td>\n",
       "      <td>3465</td>\n",
       "      <td>554452.93</td>\n",
       "    </tr>\n",
       "    <tr>\n",
       "      <th>5</th>\n",
       "      <td>2017-06</td>\n",
       "      <td>3085</td>\n",
       "      <td>484426.47</td>\n",
       "    </tr>\n",
       "    <tr>\n",
       "      <th>6</th>\n",
       "      <td>2017-07</td>\n",
       "      <td>3821</td>\n",
       "      <td>562439.22</td>\n",
       "    </tr>\n",
       "    <tr>\n",
       "      <th>7</th>\n",
       "      <td>2017-08</td>\n",
       "      <td>4129</td>\n",
       "      <td>639789.34</td>\n",
       "    </tr>\n",
       "    <tr>\n",
       "      <th>8</th>\n",
       "      <td>2017-09</td>\n",
       "      <td>4090</td>\n",
       "      <td>694180.29</td>\n",
       "    </tr>\n",
       "    <tr>\n",
       "      <th>9</th>\n",
       "      <td>2017-10</td>\n",
       "      <td>4423</td>\n",
       "      <td>732119.95</td>\n",
       "    </tr>\n",
       "    <tr>\n",
       "      <th>10</th>\n",
       "      <td>2017-11</td>\n",
       "      <td>7182</td>\n",
       "      <td>1137646.89</td>\n",
       "    </tr>\n",
       "    <tr>\n",
       "      <th>11</th>\n",
       "      <td>2017-12</td>\n",
       "      <td>5383</td>\n",
       "      <td>825902.84</td>\n",
       "    </tr>\n",
       "    <tr>\n",
       "      <th>12</th>\n",
       "      <td>2018-01</td>\n",
       "      <td>6900</td>\n",
       "      <td>1054864.38</td>\n",
       "    </tr>\n",
       "    <tr>\n",
       "      <th>13</th>\n",
       "      <td>2018-02</td>\n",
       "      <td>6450</td>\n",
       "      <td>951863.60</td>\n",
       "    </tr>\n",
       "    <tr>\n",
       "      <th>14</th>\n",
       "      <td>2018-03</td>\n",
       "      <td>6881</td>\n",
       "      <td>1101629.08</td>\n",
       "    </tr>\n",
       "    <tr>\n",
       "      <th>15</th>\n",
       "      <td>2018-04</td>\n",
       "      <td>6728</td>\n",
       "      <td>1123479.60</td>\n",
       "    </tr>\n",
       "    <tr>\n",
       "      <th>16</th>\n",
       "      <td>2018-05</td>\n",
       "      <td>6715</td>\n",
       "      <td>1124995.57</td>\n",
       "    </tr>\n",
       "    <tr>\n",
       "      <th>17</th>\n",
       "      <td>2018-06</td>\n",
       "      <td>6075</td>\n",
       "      <td>1008817.01</td>\n",
       "    </tr>\n",
       "    <tr>\n",
       "      <th>18</th>\n",
       "      <td>2018-07</td>\n",
       "      <td>6116</td>\n",
       "      <td>1021924.27</td>\n",
       "    </tr>\n",
       "    <tr>\n",
       "      <th>19</th>\n",
       "      <td>2018-08</td>\n",
       "      <td>6324</td>\n",
       "      <td>982834.99</td>\n",
       "    </tr>\n",
       "  </tbody>\n",
       "</table>\n",
       "</div>"
      ],
      "text/plain": [
       "   year_month  order_count  revenue_generated\n",
       "0     2017-01          737          123671.01\n",
       "1     2017-02         1592          259978.49\n",
       "2     2017-03         2494          406959.60\n",
       "3     2017-04         2242          381012.04\n",
       "4     2017-05         3465          554452.93\n",
       "5     2017-06         3085          484426.47\n",
       "6     2017-07         3821          562439.22\n",
       "7     2017-08         4129          639789.34\n",
       "8     2017-09         4090          694180.29\n",
       "9     2017-10         4423          732119.95\n",
       "10    2017-11         7182         1137646.89\n",
       "11    2017-12         5383          825902.84\n",
       "12    2018-01         6900         1054864.38\n",
       "13    2018-02         6450          951863.60\n",
       "14    2018-03         6881         1101629.08\n",
       "15    2018-04         6728         1123479.60\n",
       "16    2018-05         6715         1124995.57\n",
       "17    2018-06         6075         1008817.01\n",
       "18    2018-07         6116         1021924.27\n",
       "19    2018-08         6324          982834.99"
      ]
     },
     "execution_count": 66,
     "metadata": {},
     "output_type": "execute_result"
    }
   ],
   "source": [
    "mr.year_month=mr.year_month.astype(str)\n",
    "mr"
   ]
  },
  {
   "cell_type": "code",
   "execution_count": 67,
   "metadata": {},
   "outputs": [
    {
     "data": {
      "image/png": "[encoded data removed]",
      "text/plain": [
       "<Figure size 720x432 with 2 Axes>"
      ]
     },
     "metadata": {
      "needs_background": "light"
     },
     "output_type": "display_data"
    }
   ],
   "source": [
    " \n",
    "fig,ax = plt.subplots()\n",
    "plt.xticks(rotation=-45)\n",
    " \n",
    "ax.plot(mr.year_month, mr.order_count, color=\"red\", marker=\"o\")\n",
    " \n",
    "ax.set_xlabel(\"year_month\",fontsize=14)\n",
    " \n",
    "ax.set_ylabel(\"order_count\",color=\"red\",fontsize=14)\n",
    "ax.set_title('Monthly Performance Jan 2017-Sep 2018') \n",
    "ax2=ax.twinx()\n",
    " \n",
    "ax2.plot(mr.year_month, mr.revenue_generated,color=\"blue\",marker=\"o\")\n",
    "ax2.set_ylabel(\"revenue_generated\",color=\"blue\",fontsize=14)\n",
    "fig.set_size_inches(10,6)\n",
    "plt.show()\n"
   ]
  },
  {
   "cell_type": "code",
   "execution_count": 69,
   "metadata": {},
   "outputs": [],
   "source": [
    " # 2017-09 split it into year, and month\n",
    "ops['month_purchase'] = ops['order_purchase_month_year'].apply(lambda x: x.split('-')[1]).astype(int)\n",
    "ops['year_purchase'] = ops['order_purchase_month_year'].apply(lambda x: x.split('-')[0]).astype(int)"
   ]
  },
  {
   "cell_type": "code",
   "execution_count": 70,
   "metadata": {},
   "outputs": [
    {
     "data": {
      "text/plain": [
       "Index(['order_id', 'totalpayment_value', 'total_qty', 'product_id',\n",
       "       'seller_id', 'product_category_name', 'product_photos_qty',\n",
       "       'customer_id', 'delivery_days', 'customer_city', 'customer_state',\n",
       "       'order_purchase_month_year', 'month_purchase', 'year_purchase'],\n",
       "      dtype='object')"
      ]
     },
     "execution_count": 70,
     "metadata": {},
     "output_type": "execute_result"
    }
   ],
   "source": [
    "ops.columns"
   ]
  },
  {
   "cell_type": "code",
   "execution_count": 71,
   "metadata": {},
   "outputs": [],
   "source": [
    "final_data = ops.copy()"
   ]
  },
  {
   "cell_type": "markdown",
   "metadata": {},
   "source": [
    "# Splitting Data into Train and Test samples"
   ]
  },
  {
   "cell_type": "code",
   "execution_count": 73,
   "metadata": {},
   "outputs": [],
   "source": [
    "from sklearn.model_selection import train_test_split"
   ]
  },
  {
   "cell_type": "code",
   "execution_count": 72,
   "metadata": {},
   "outputs": [],
   "source": [
    "X = final_data[['total_qty', 'product_photos_qty','product_category_name',\n",
    "             'delivery_days', 'customer_city',\n",
    "       'customer_state', 'month_purchase']].values\n",
    "y = final_data[['totalpayment_value']].values\n",
    "\n",
    "\n",
    "X_train, X_test, y_train, y_test = train_test_split(X, y, test_size = 0.25, random_state=82)"
   ]
  },
  {
   "cell_type": "markdown",
   "metadata": {},
   "source": [
    "Use the numerical colums to predict totalpaymtent_value"
   ]
  },
  {
   "cell_type": "code",
   "execution_count": 75,
   "metadata": {},
   "outputs": [
    {
     "name": "stdout",
     "output_type": "stream",
     "text": [
      "X_train: (71124, 7)\n",
      "X_test: (23708, 7)\n",
      "y_train: (71124, 1)\n",
      "y_test: (23708, 1)\n"
     ]
    }
   ],
   "source": [
    "print('X_train:', X_train.shape)\n",
    "print('X_test:', X_test.shape)\n",
    "print('y_train:', y_train.shape)\n",
    "print('y_test:', y_test.shape)"
   ]
  },
  {
   "cell_type": "markdown",
   "metadata": {},
   "source": [
    "Create model Ensebal Methods"
   ]
  },
  {
   "cell_type": "code",
   "execution_count": 76,
   "metadata": {},
   "outputs": [],
   "source": [
    "from sklearn.ensemble import RandomForestRegressor"
   ]
  },
  {
   "cell_type": "code",
   "execution_count": 77,
   "metadata": {},
   "outputs": [
    {
     "name": "stdout",
     "output_type": "stream",
     "text": [
      "Accuracy: 0.11648495607857079\n",
      "Mean Absolute Error: 103.16121200670999\n",
      "Mean Squared Error: 40262.32517631125\n"
     ]
    }
   ],
   "source": [
    "forest_random = RandomForestRegressor(n_estimators=43, random_state=82,min_samples_split=30, min_samples_leaf=1)\n",
    "forest_random.fit(X_train, y_train.ravel())\n",
    "y_pred = forest_random.predict(X_test)\n",
    "# find the accuracy, mean absolute error, mean squared error, root mean squared error\n",
    "from sklearn.metrics import mean_absolute_error, mean_squared_error, r2_score\n",
    "print('Accuracy:', r2_score(y_test, y_pred))\n",
    "print('Mean Absolute Error:', mean_absolute_error(y_test, y_pred))\n",
    "print('Mean Squared Error:', mean_squared_error(y_test, y_pred))"
   ]
  },
  {
   "cell_type": "code",
   "execution_count": 78,
   "metadata": {},
   "outputs": [],
   "source": [
    "result = pd.DataFrame({'Actual': y_test.flatten(), 'Predicted': y_pred.flatten()})\n"
   ]
  },
  {
   "cell_type": "code",
   "execution_count": 79,
   "metadata": {},
   "outputs": [
    {
     "data": {
      "text/html": [
       "<div>\n",
       "<style scoped>\n",
       "    .dataframe tbody tr th:only-of-type {\n",
       "        vertical-align: middle;\n",
       "    }\n",
       "\n",
       "    .dataframe tbody tr th {\n",
       "        vertical-align: top;\n",
       "    }\n",
       "\n",
       "    .dataframe thead th {\n",
       "        text-align: right;\n",
       "    }\n",
       "</style>\n",
       "<table border=\"1\" class=\"dataframe\">\n",
       "  <thead>\n",
       "    <tr style=\"text-align: right;\">\n",
       "      <th></th>\n",
       "      <th>Actual</th>\n",
       "      <th>Predicted</th>\n",
       "    </tr>\n",
       "  </thead>\n",
       "  <tbody>\n",
       "    <tr>\n",
       "      <th>0</th>\n",
       "      <td>43.22</td>\n",
       "      <td>151.040900</td>\n",
       "    </tr>\n",
       "    <tr>\n",
       "      <th>1</th>\n",
       "      <td>167.53</td>\n",
       "      <td>162.903038</td>\n",
       "    </tr>\n",
       "    <tr>\n",
       "      <th>2</th>\n",
       "      <td>62.38</td>\n",
       "      <td>57.542880</td>\n",
       "    </tr>\n",
       "    <tr>\n",
       "      <th>3</th>\n",
       "      <td>168.05</td>\n",
       "      <td>577.246446</td>\n",
       "    </tr>\n",
       "    <tr>\n",
       "      <th>4</th>\n",
       "      <td>88.08</td>\n",
       "      <td>163.645886</td>\n",
       "    </tr>\n",
       "  </tbody>\n",
       "</table>\n",
       "</div>"
      ],
      "text/plain": [
       "   Actual   Predicted\n",
       "0   43.22  151.040900\n",
       "1  167.53  162.903038\n",
       "2   62.38   57.542880\n",
       "3  168.05  577.246446\n",
       "4   88.08  163.645886"
      ]
     },
     "execution_count": 79,
     "metadata": {},
     "output_type": "execute_result"
    }
   ],
   "source": [
    "result.head(5)"
   ]
  },
  {
   "cell_type": "code",
   "execution_count": 80,
   "metadata": {},
   "outputs": [],
   "source": [
    "# using decision tree regressor\n",
    "from sklearn.tree import DecisionTreeRegressor\n",
    "dt = DecisionTreeRegressor()\n",
    "dt.fit(X_train, y_train.ravel())\n",
    "y_pred_dt = dt.predict(X_test)\n"
   ]
  },
  {
   "cell_type": "code",
   "execution_count": 81,
   "metadata": {},
   "outputs": [],
   "source": [
    "# using knn regressor\n",
    "from sklearn.neighbors import KNeighborsRegressor\n",
    "knn = KNeighborsRegressor()\n",
    "knn.fit(X_train, y_train.ravel())\n",
    "y_pred_knn = knn.predict(X_test)"
   ]
  },
  {
   "cell_type": "code",
   "execution_count": 82,
   "metadata": {},
   "outputs": [
    {
     "name": "stdout",
     "output_type": "stream",
     "text": [
      "Requirement already satisfied: xgboost in c:\\users\\admin\\appdata\\local\\programs\\python\\python310\\lib\\site-packages (1.7.5)\n",
      "Requirement already satisfied: numpy in c:\\users\\admin\\appdata\\local\\programs\\python\\python310\\lib\\site-packages (from xgboost) (1.22.4)\n",
      "Requirement already satisfied: scipy in c:\\users\\admin\\appdata\\local\\programs\\python\\python310\\lib\\site-packages (from xgboost) (1.8.1)\n"
     ]
    }
   ],
   "source": [
    "# using xgboost regressor\n",
    "!pip install xgboost"
   ]
  },
  {
   "cell_type": "code",
   "execution_count": 83,
   "metadata": {},
   "outputs": [],
   "source": [
    "from xgboost import XGBRegressor\n",
    "xgb = XGBRegressor()\n",
    "xgb.fit(X_train, y_train.ravel())\n",
    "y_pred_xgb = xgb.predict(X_test)"
   ]
  },
  {
   "cell_type": "code",
   "execution_count": 84,
   "metadata": {},
   "outputs": [
    {
     "name": "stdout",
     "output_type": "stream",
     "text": [
      "Accuracy Decision tree: -1.0265948490426458\n",
      "Accuracy: -0.1521229690145327\n",
      "Accuracy: 0.08566246135521893\n",
      "Accuracy: 0.11648495607857079\n"
     ]
    }
   ],
   "source": [
    "print('Accuracy Decision tree:', r2_score(y_test, y_pred_dt))\n",
    "print('Accuracy:', r2_score(y_test, y_pred_knn))\n",
    "print('Accuracy:', r2_score(y_test, y_pred_xgb))\n",
    "print('Accuracy:', r2_score(y_test, y_pred))"
   ]
  },
  {
   "cell_type": "code",
   "execution_count": 85,
   "metadata": {},
   "outputs": [
    {
     "data": {
      "text/html": [
       "<div>\n",
       "<style scoped>\n",
       "    .dataframe tbody tr th:only-of-type {\n",
       "        vertical-align: middle;\n",
       "    }\n",
       "\n",
       "    .dataframe tbody tr th {\n",
       "        vertical-align: top;\n",
       "    }\n",
       "\n",
       "    .dataframe thead th {\n",
       "        text-align: right;\n",
       "    }\n",
       "</style>\n",
       "<table border=\"1\" class=\"dataframe\">\n",
       "  <thead>\n",
       "    <tr style=\"text-align: right;\">\n",
       "      <th></th>\n",
       "      <th>Actual</th>\n",
       "      <th>Predicted</th>\n",
       "      <th>Predicted_dt</th>\n",
       "      <th>Predicted_knn</th>\n",
       "      <th>Predicted_xgb</th>\n",
       "    </tr>\n",
       "  </thead>\n",
       "  <tbody>\n",
       "    <tr>\n",
       "      <th>0</th>\n",
       "      <td>43.22</td>\n",
       "      <td>151.040900</td>\n",
       "      <td>173.590000</td>\n",
       "      <td>270.178</td>\n",
       "      <td>174.594254</td>\n",
       "    </tr>\n",
       "    <tr>\n",
       "      <th>1</th>\n",
       "      <td>167.53</td>\n",
       "      <td>162.903038</td>\n",
       "      <td>79.700000</td>\n",
       "      <td>69.002</td>\n",
       "      <td>145.366928</td>\n",
       "    </tr>\n",
       "    <tr>\n",
       "      <th>2</th>\n",
       "      <td>62.38</td>\n",
       "      <td>57.542880</td>\n",
       "      <td>67.266667</td>\n",
       "      <td>75.686</td>\n",
       "      <td>104.940376</td>\n",
       "    </tr>\n",
       "    <tr>\n",
       "      <th>3</th>\n",
       "      <td>168.05</td>\n",
       "      <td>577.246446</td>\n",
       "      <td>514.110000</td>\n",
       "      <td>167.770</td>\n",
       "      <td>610.517578</td>\n",
       "    </tr>\n",
       "    <tr>\n",
       "      <th>4</th>\n",
       "      <td>88.08</td>\n",
       "      <td>163.645886</td>\n",
       "      <td>138.890000</td>\n",
       "      <td>101.362</td>\n",
       "      <td>98.261200</td>\n",
       "    </tr>\n",
       "  </tbody>\n",
       "</table>\n",
       "</div>"
      ],
      "text/plain": [
       "   Actual   Predicted  Predicted_dt  Predicted_knn  Predicted_xgb\n",
       "0   43.22  151.040900    173.590000        270.178     174.594254\n",
       "1  167.53  162.903038     79.700000         69.002     145.366928\n",
       "2   62.38   57.542880     67.266667         75.686     104.940376\n",
       "3  168.05  577.246446    514.110000        167.770     610.517578\n",
       "4   88.08  163.645886    138.890000        101.362      98.261200"
      ]
     },
     "execution_count": 85,
     "metadata": {},
     "output_type": "execute_result"
    }
   ],
   "source": [
    "final_result = pd.DataFrame({'Actual': y_test.flatten(), 'Predicted': y_pred.flatten(), 'Predicted_dt': y_pred_dt.flatten(), 'Predicted_knn': y_pred_knn.flatten(), 'Predicted_xgb': y_pred_xgb.flatten()})\n",
    "final_result.head(5)"
   ]
  },
  {
   "cell_type": "code",
   "execution_count": 86,
   "metadata": {},
   "outputs": [],
   "source": [
    "final_result = pd.DataFrame({'Random Forest': [r2_score(y_test, y_pred), mean_absolute_error(y_test, y_pred), mean_squared_error(y_test, y_pred), np.sqrt(mean_squared_error(y_test, y_pred))], 'Decision Tree': [r2_score(y_test, y_pred_dt), mean_absolute_error(y_test, y_pred_dt), mean_squared_error(y_test, y_pred_dt), np.sqrt(mean_squared_error(y_test, y_pred_dt))], 'KNN': [r2_score(y_test, y_pred_knn), mean_absolute_error(y_test, y_pred_knn), mean_squared_error(y_test, y_pred_knn), np.sqrt(mean_squared_error(y_test, y_pred_knn))], 'XGBoost': [r2_score(y_test, y_pred_xgb), mean_absolute_error(y_test, y_pred_xgb), mean_squared_error(y_test, y_pred_xgb), np.sqrt(mean_squared_error(y_test, y_pred_xgb))]}, index=['Accuracy', 'Mean Absolute Error', 'Mean Squared Error', 'Root Mean Squared Error'])"
   ]
  },
  {
   "cell_type": "code",
   "execution_count": 87,
   "metadata": {},
   "outputs": [
    {
     "data": {
      "text/html": [
       "<div>\n",
       "<style scoped>\n",
       "    .dataframe tbody tr th:only-of-type {\n",
       "        vertical-align: middle;\n",
       "    }\n",
       "\n",
       "    .dataframe tbody tr th {\n",
       "        vertical-align: top;\n",
       "    }\n",
       "\n",
       "    .dataframe thead th {\n",
       "        text-align: right;\n",
       "    }\n",
       "</style>\n",
       "<table border=\"1\" class=\"dataframe\">\n",
       "  <thead>\n",
       "    <tr style=\"text-align: right;\">\n",
       "      <th></th>\n",
       "      <th>Random Forest</th>\n",
       "      <th>Decision Tree</th>\n",
       "      <th>KNN</th>\n",
       "      <th>XGBoost</th>\n",
       "    </tr>\n",
       "  </thead>\n",
       "  <tbody>\n",
       "    <tr>\n",
       "      <th>Accuracy</th>\n",
       "      <td>0.116485</td>\n",
       "      <td>-1.026595</td>\n",
       "      <td>-0.152123</td>\n",
       "      <td>0.085662</td>\n",
       "    </tr>\n",
       "    <tr>\n",
       "      <th>Mean Absolute Error</th>\n",
       "      <td>103.161212</td>\n",
       "      <td>139.346310</td>\n",
       "      <td>120.010372</td>\n",
       "      <td>102.460126</td>\n",
       "    </tr>\n",
       "    <tr>\n",
       "      <th>Mean Squared Error</th>\n",
       "      <td>40262.325176</td>\n",
       "      <td>92353.176524</td>\n",
       "      <td>52502.953901</td>\n",
       "      <td>41666.925261</td>\n",
       "    </tr>\n",
       "    <tr>\n",
       "      <th>Root Mean Squared Error</th>\n",
       "      <td>200.654741</td>\n",
       "      <td>303.896654</td>\n",
       "      <td>229.135231</td>\n",
       "      <td>204.124779</td>\n",
       "    </tr>\n",
       "  </tbody>\n",
       "</table>\n",
       "</div>"
      ],
      "text/plain": [
       "                         Random Forest  Decision Tree           KNN  \\\n",
       "Accuracy                      0.116485      -1.026595     -0.152123   \n",
       "Mean Absolute Error         103.161212     139.346310    120.010372   \n",
       "Mean Squared Error        40262.325176   92353.176524  52502.953901   \n",
       "Root Mean Squared Error     200.654741     303.896654    229.135231   \n",
       "\n",
       "                              XGBoost  \n",
       "Accuracy                     0.085662  \n",
       "Mean Absolute Error        102.460126  \n",
       "Mean Squared Error       41666.925261  \n",
       "Root Mean Squared Error    204.124779  "
      ]
     },
     "execution_count": 87,
     "metadata": {},
     "output_type": "execute_result"
    }
   ],
   "source": [
    "final_result.head()"
   ]
  },
  {
   "cell_type": "code",
   "execution_count": 88,
   "metadata": {},
   "outputs": [],
   "source": [
    "# from above result we can see that Random Forest is giving better result\n",
    "import pickle\n",
    "pickle.dump(forest_random, open('model.pkl','wb'))"
   ]
  }
 ],
 "metadata": {
  "kernelspec": {
   "display_name": "Python 3 (ipykernel)",
   "language": "python",
   "name": "python3"
  },
  "language_info": {
   "codemirror_mode": {
    "name": "ipython",
    "version": 3
   },
   "file_extension": ".py",
   "mimetype": "text/x-python",
   "name": "python",
   "nbconvert_exporter": "python",
   "pygments_lexer": "ipython3",
   "version": "3.10.0"
  }
 },
 "nbformat": 4,
 "nbformat_minor": 2
}
